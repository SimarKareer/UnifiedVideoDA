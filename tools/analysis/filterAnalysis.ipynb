{
 "cells": [
  {
   "cell_type": "code",
   "execution_count": 1,
   "metadata": {},
   "outputs": [
    {
     "name": "stderr",
     "output_type": "stream",
     "text": [
      "/srv/flash1/hmaheshwari7/miniconda/envs/videoda/lib/python3.8/site-packages/torch/cuda/__init__.py:52: UserWarning: CUDA initialization: Found no NVIDIA driver on your system. Please check that you have an NVIDIA GPU and installed a driver from http://www.nvidia.com/Download/index.aspx (Triggered internally at  /pytorch/c10/cuda/CUDAFunctions.cpp:100.)\n",
      "  return torch._C._cuda_getDeviceCount() > 0\n"
     ]
    },
    {
     "name": "stdout",
     "output_type": "stream",
     "text": [
      "No CUDA runtime is found, using CUDA_HOME='/usr/local/cuda'\n"
     ]
    }
   ],
   "source": [
    "import pickle as pkl\n",
    "import numpy as np\n",
    "import torch\n",
    "from mmseg.datasets.cityscapes import CityscapesDataset\n",
    "CLASSES = CityscapesDataset.CLASSES\n",
    "import pandas as pd"
   ]
  },
  {
   "cell_type": "code",
   "execution_count": 3,
   "metadata": {},
   "outputs": [],
   "source": [
    "with open(\"../../work_dirs/mmv5/invfn1_4gpu_gta_hrdargb_05-15-18-07-28/eval_results.pkl\", \"rb\") as f:\n",
    "    data = pkl.load(f)"
   ]
  },
  {
   "cell_type": "code",
   "execution_count": 4,
   "metadata": {},
   "outputs": [],
   "source": [
    "i_data_dict = {k: v for k, v in data[\"cml_intersect\"].items() if v.sum() != 0}\n",
    "u_data_dict = {k: v for k, v in data[\"cml_union\"].items() if v.sum() != 0}\n",
    "iou_data_dict = {k: v / u_data_dict[k] for k, v in i_data_dict.items()}\n",
    "\n",
    "pixel_correct_data_dict = {k: v for k, v in data[\"pixelwise_correct\"].items() if v.sum() != 0}\n",
    "pixel_total_data_dict = {k: v for k, v in data[\"pixelwise_total\"].items() if v.sum() != 0}\n",
    "pixel_acc_data_dict = {k: v / pixel_total_data_dict[k] for k, v in pixel_correct_data_dict.items()}"
   ]
  },
  {
   "cell_type": "code",
   "execution_count": 5,
   "metadata": {},
   "outputs": [],
   "source": [
    "iou_data_dict[\"Class\"] = CLASSES\n",
    "pixel_acc_data_dict[\"Class\"] = CLASSES"
   ]
  },
  {
   "cell_type": "code",
   "execution_count": 6,
   "metadata": {},
   "outputs": [],
   "source": [
    "iou_df = pd.DataFrame.from_dict(iou_data_dict).set_index(\"Class\").T\n",
    "iou_df[\"Average\"] = iou_df.mean(axis=1)\n",
    "pixel_acc_df = pd.DataFrame.from_dict(pixel_acc_data_dict).set_index(\"Class\").T\n",
    "pixel_acc_df[\"Average\"] = pixel_acc_df.mean(axis=1)"
   ]
  },
  {
   "cell_type": "code",
   "execution_count": 7,
   "metadata": {},
   "outputs": [
    {
     "data": {
      "text/html": [
       "<div>\n",
       "<style scoped>\n",
       "    .dataframe tbody tr th:only-of-type {\n",
       "        vertical-align: middle;\n",
       "    }\n",
       "\n",
       "    .dataframe tbody tr th {\n",
       "        vertical-align: top;\n",
       "    }\n",
       "\n",
       "    .dataframe thead th {\n",
       "        text-align: right;\n",
       "    }\n",
       "</style>\n",
       "<table border=\"1\" class=\"dataframe\">\n",
       "  <thead>\n",
       "    <tr style=\"text-align: right;\">\n",
       "      <th>Class</th>\n",
       "      <th>Average</th>\n",
       "    </tr>\n",
       "  </thead>\n",
       "  <tbody>\n",
       "    <tr>\n",
       "      <th>mIoU</th>\n",
       "      <td>0.640306</td>\n",
       "    </tr>\n",
       "    <tr>\n",
       "      <th>mIoU_gt_pred</th>\n",
       "      <td>0.643859</td>\n",
       "    </tr>\n",
       "    <tr>\n",
       "      <th>pred_pred</th>\n",
       "      <td>0.854801</td>\n",
       "    </tr>\n",
       "    <tr>\n",
       "      <th>gt_pred</th>\n",
       "      <td>0.631560</td>\n",
       "    </tr>\n",
       "    <tr>\n",
       "      <th>M5</th>\n",
       "      <td>0.663741</td>\n",
       "    </tr>\n",
       "    <tr>\n",
       "      <th>M5Fixed</th>\n",
       "      <td>0.670259</td>\n",
       "    </tr>\n",
       "  </tbody>\n",
       "</table>\n",
       "</div>"
      ],
      "text/plain": [
       "Class          Average\n",
       "mIoU          0.640306\n",
       "mIoU_gt_pred  0.643859\n",
       "pred_pred     0.854801\n",
       "gt_pred       0.631560\n",
       "M5            0.663741\n",
       "M5Fixed       0.670259"
      ]
     },
     "execution_count": 7,
     "metadata": {},
     "output_type": "execute_result"
    }
   ],
   "source": [
    "iou_df[[\"Average\"]]"
   ]
  },
  {
   "cell_type": "code",
   "execution_count": 8,
   "metadata": {},
   "outputs": [
    {
     "data": {
      "text/html": [
       "<div>\n",
       "<style scoped>\n",
       "    .dataframe tbody tr th:only-of-type {\n",
       "        vertical-align: middle;\n",
       "    }\n",
       "\n",
       "    .dataframe tbody tr th {\n",
       "        vertical-align: top;\n",
       "    }\n",
       "\n",
       "    .dataframe thead th {\n",
       "        text-align: right;\n",
       "    }\n",
       "</style>\n",
       "<table border=\"1\" class=\"dataframe\">\n",
       "  <thead>\n",
       "    <tr style=\"text-align: right;\">\n",
       "      <th>Class</th>\n",
       "      <th>Average</th>\n",
       "    </tr>\n",
       "  </thead>\n",
       "  <tbody>\n",
       "    <tr>\n",
       "      <th>mIoU</th>\n",
       "      <td>0.753207</td>\n",
       "    </tr>\n",
       "    <tr>\n",
       "      <th>mIoU_gt_pred</th>\n",
       "      <td>0.754520</td>\n",
       "    </tr>\n",
       "    <tr>\n",
       "      <th>pred_pred</th>\n",
       "      <td>0.914863</td>\n",
       "    </tr>\n",
       "    <tr>\n",
       "      <th>gt_pred</th>\n",
       "      <td>0.787557</td>\n",
       "    </tr>\n",
       "    <tr>\n",
       "      <th>M5Fixed</th>\n",
       "      <td>0.772322</td>\n",
       "    </tr>\n",
       "  </tbody>\n",
       "</table>\n",
       "</div>"
      ],
      "text/plain": [
       "Class          Average\n",
       "mIoU          0.753207\n",
       "mIoU_gt_pred  0.754520\n",
       "pred_pred     0.914863\n",
       "gt_pred       0.787557\n",
       "M5Fixed       0.772322"
      ]
     },
     "execution_count": 8,
     "metadata": {},
     "output_type": "execute_result"
    }
   ],
   "source": [
    "pixel_acc_df[[\"Average\"]]"
   ]
  },
  {
   "cell_type": "code",
   "execution_count": 52,
   "metadata": {},
   "outputs": [],
   "source": [
    "def get_metrics(confusion_matrix):\n",
    "    confusion_matrix = pd.DataFrame(confusion_matrix)\n",
    "    confusion_matrix.index = CLASSES\n",
    "    confusion_matrix.columns = CLASSES\n",
    "    FP = confusion_matrix.sum(axis=0) - np.diag(confusion_matrix)  \n",
    "    FN = confusion_matrix.sum(axis=1) - np.diag(confusion_matrix)\n",
    "    TP = np.diag(confusion_matrix)\n",
    "    TN = confusion_matrix.values.sum() - (FP + FN + TP)\n",
    "\n",
    "    # Sensitivity, hit rate, recall, or true positive rate\n",
    "    TPR = TP/(TP+FN)\n",
    "    # Specificity or true negative rate\n",
    "    TNR = TN/(TN+FP) \n",
    "    # Precision or positive predictive value\n",
    "    PPV = TP/(TP+FP)\n",
    "    # Negative predictive value\n",
    "    NPV = TN/(TN+FN)\n",
    "    # Fall out or false positive rate\n",
    "    FPR = FP/(FP+TN)\n",
    "    # False negative rate\n",
    "    FNR = FN/(TP+FN)\n",
    "    # False discovery rate\n",
    "    FDR = FP/(TP+FP)\n",
    "\n",
    "    # Overall accuracy\n",
    "    ACC = (TP+TN)/(TP+FP+FN+TN)\n",
    "\n",
    "    metrics = {\"FP\": FP, \n",
    "                \"FN\": FN,\n",
    "                \"TP\": TP,\n",
    "                \"TN\": TN,\n",
    "                \"TPR\": TPR,\n",
    "                \"TNR\": TNR,\n",
    "                \"PPV\": PPV,\n",
    "                \"NPV\": NPV,\n",
    "                \"FPR\": FPR,\n",
    "                \"FNR\": FNR,\n",
    "                \"FDR\": FDR,\n",
    "                \"ACC\": ACC}\n",
    "    return metrics\n",
    "\n",
    "\n",
    "def get_normalized_cf(confusion_matrix):\n",
    "    confusion_matrix /= confusion_matrix.sum(axis=1, keepdims=True)\n",
    "    confusion_matrix = pd.DataFrame(confusion_matrix)\n",
    "    confusion_matrix.index = CLASSES\n",
    "    confusion_matrix.columns = CLASSES\n",
    "    return (confusion_matrix).round(3)\n"
   ]
  },
  {
   "cell_type": "code",
   "execution_count": 53,
   "metadata": {},
   "outputs": [],
   "source": [
    "metrics = get_metrics(data['confusion_matrix']['mIoU'].numpy())\n",
    "cf = get_normalized_cf(data['confusion_matrix']['mIoU'].numpy())"
   ]
  },
  {
   "cell_type": "code",
   "execution_count": null,
   "metadata": {},
   "outputs": [],
   "source": []
  }
 ],
 "metadata": {
  "kernelspec": {
   "display_name": "Python 3",
   "language": "python",
   "name": "python3"
  },
  "language_info": {
   "codemirror_mode": {
    "name": "ipython",
    "version": 3
   },
   "file_extension": ".py",
   "mimetype": "text/x-python",
   "name": "python",
   "nbconvert_exporter": "python",
   "pygments_lexer": "ipython3",
   "version": "3.8.5"
  },
  "orig_nbformat": 4,
  "vscode": {
   "interpreter": {
    "hash": "19fe8414c3884660166434eb94f7323c4d3f759f06cb9fb47214cf5e7cb838c8"
   }
  }
 },
 "nbformat": 4,
 "nbformat_minor": 2
}
