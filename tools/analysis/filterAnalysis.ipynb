{
 "cells": [
  {
   "cell_type": "code",
   "execution_count": 1,
   "metadata": {},
   "outputs": [
    {
     "name": "stderr",
     "output_type": "stream",
     "text": [
      "/srv/flash1/skareer6/miniconda3/envs/mic/lib/python3.8/site-packages/torch/cuda/__init__.py:52: UserWarning: CUDA initialization: Found no NVIDIA driver on your system. Please check that you have an NVIDIA GPU and installed a driver from http://www.nvidia.com/Download/index.aspx (Triggered internally at  /pytorch/c10/cuda/CUDAFunctions.cpp:100.)\n",
      "  return torch._C._cuda_getDeviceCount() > 0\n"
     ]
    },
    {
     "name": "stdout",
     "output_type": "stream",
     "text": [
      "No CUDA runtime is found, using CUDA_HOME='/usr/local/cuda'\n"
     ]
    }
   ],
   "source": [
    "import pickle as pkl\n",
    "import numpy as np\n",
    "import torch\n",
    "from mmseg.datasets.cityscapes import CityscapesDataset\n",
    "CLASSES = CityscapesDataset.CLASSES\n",
    "import pandas as pd"
   ]
  },
  {
   "cell_type": "code",
   "execution_count": 2,
   "metadata": {},
   "outputs": [],
   "source": [
    "with open(\"../../work_dirs/filter_eval/branchConsis/eval_results.pkl\", \"rb\") as f:\n",
    "    data = pkl.load(f)"
   ]
  },
  {
   "cell_type": "code",
   "execution_count": 3,
   "metadata": {},
   "outputs": [],
   "source": [
    "i_data_dict = {k: v for k, v in data[\"cml_intersect\"].items() if v.sum() != 0}\n",
    "u_data_dict = {k: v for k, v in data[\"cml_union\"].items() if v.sum() != 0}\n",
    "iou_data_dict = {k: v / u_data_dict[k] for k, v in i_data_dict.items()}\n",
    "\n",
    "pixel_correct_data_dict = {k: v for k, v in data[\"pixelwise_correct\"].items() if v.sum() != 0}\n",
    "pixel_total_data_dict = {k: v for k, v in data[\"pixelwise_total\"].items() if v.sum() != 0}\n",
    "pixel_acc_data_dict = {k: v / pixel_total_data_dict[k] for k, v in pixel_correct_data_dict.items()}"
   ]
  },
  {
   "cell_type": "code",
   "execution_count": 4,
   "metadata": {},
   "outputs": [],
   "source": [
    "iou_data_dict[\"Class\"] = CLASSES\n",
    "pixel_acc_data_dict[\"Class\"] = CLASSES"
   ]
  },
  {
   "cell_type": "code",
   "execution_count": 5,
   "metadata": {},
   "outputs": [],
   "source": [
    "iou_df = pd.DataFrame.from_dict(iou_data_dict).set_index(\"Class\").T\n",
    "iou_df[\"Average\"] = iou_df.mean(axis=1)\n",
    "pixel_acc_df = pd.DataFrame.from_dict(pixel_acc_data_dict).set_index(\"Class\").T\n",
    "pixel_acc_df[\"Average\"] = pixel_acc_df.mean(axis=1)"
   ]
  },
  {
   "cell_type": "code",
   "execution_count": 11,
   "metadata": {},
   "outputs": [
    {
     "data": {
      "text/html": [
       "<div>\n",
       "<style scoped>\n",
       "    .dataframe tbody tr th:only-of-type {\n",
       "        vertical-align: middle;\n",
       "    }\n",
       "\n",
       "    .dataframe tbody tr th {\n",
       "        vertical-align: top;\n",
       "    }\n",
       "\n",
       "    .dataframe thead th {\n",
       "        text-align: right;\n",
       "    }\n",
       "</style>\n",
       "<table border=\"1\" class=\"dataframe\">\n",
       "  <thead>\n",
       "    <tr style=\"text-align: right;\">\n",
       "      <th>Class</th>\n",
       "      <th>Average</th>\n",
       "    </tr>\n",
       "  </thead>\n",
       "  <tbody>\n",
       "    <tr>\n",
       "      <th>mIoU</th>\n",
       "      <td>0.472824</td>\n",
       "    </tr>\n",
       "    <tr>\n",
       "      <th>branch_consis</th>\n",
       "      <td>0.481194</td>\n",
       "    </tr>\n",
       "    <tr>\n",
       "      <th>branch1_miou</th>\n",
       "      <td>0.479457</td>\n",
       "    </tr>\n",
       "    <tr>\n",
       "      <th>branch2_miou</th>\n",
       "      <td>0.412446</td>\n",
       "    </tr>\n",
       "    <tr>\n",
       "      <th>mIoUDup</th>\n",
       "      <td>0.472824</td>\n",
       "    </tr>\n",
       "  </tbody>\n",
       "</table>\n",
       "</div>"
      ],
      "text/plain": [
       "Class           Average\n",
       "mIoU           0.472824\n",
       "branch_consis  0.481194\n",
       "branch1_miou   0.479457\n",
       "branch2_miou   0.412446\n",
       "mIoUDup        0.472824"
      ]
     },
     "execution_count": 11,
     "metadata": {},
     "output_type": "execute_result"
    }
   ],
   "source": [
    "iou_df[[\"Average\"]]"
   ]
  },
  {
   "cell_type": "code",
   "execution_count": 12,
   "metadata": {},
   "outputs": [
    {
     "data": {
      "text/html": [
       "<div>\n",
       "<style scoped>\n",
       "    .dataframe tbody tr th:only-of-type {\n",
       "        vertical-align: middle;\n",
       "    }\n",
       "\n",
       "    .dataframe tbody tr th {\n",
       "        vertical-align: top;\n",
       "    }\n",
       "\n",
       "    .dataframe thead th {\n",
       "        text-align: right;\n",
       "    }\n",
       "</style>\n",
       "<table border=\"1\" class=\"dataframe\">\n",
       "  <thead>\n",
       "    <tr style=\"text-align: right;\">\n",
       "      <th>Class</th>\n",
       "      <th>Average</th>\n",
       "    </tr>\n",
       "  </thead>\n",
       "  <tbody>\n",
       "    <tr>\n",
       "      <th>mIoU</th>\n",
       "      <td>0.608164</td>\n",
       "    </tr>\n",
       "    <tr>\n",
       "      <th>branch_consis</th>\n",
       "      <td>0.609575</td>\n",
       "    </tr>\n",
       "    <tr>\n",
       "      <th>branch1_miou</th>\n",
       "      <td>0.613393</td>\n",
       "    </tr>\n",
       "    <tr>\n",
       "      <th>branch2_miou</th>\n",
       "      <td>0.564191</td>\n",
       "    </tr>\n",
       "    <tr>\n",
       "      <th>mIoUDup</th>\n",
       "      <td>0.608164</td>\n",
       "    </tr>\n",
       "  </tbody>\n",
       "</table>\n",
       "</div>"
      ],
      "text/plain": [
       "Class           Average\n",
       "mIoU           0.608164\n",
       "branch_consis  0.609575\n",
       "branch1_miou   0.613393\n",
       "branch2_miou   0.564191\n",
       "mIoUDup        0.608164"
      ]
     },
     "execution_count": 12,
     "metadata": {},
     "output_type": "execute_result"
    }
   ],
   "source": [
    "pixel_acc_df[[\"Average\"]]"
   ]
  },
  {
   "cell_type": "code",
   "execution_count": null,
   "metadata": {},
   "outputs": [],
   "source": []
  }
 ],
 "metadata": {
  "kernelspec": {
   "display_name": "mic",
   "language": "python",
   "name": "python3"
  },
  "language_info": {
   "codemirror_mode": {
    "name": "ipython",
    "version": 3
   },
   "file_extension": ".py",
   "mimetype": "text/x-python",
   "name": "python",
   "nbconvert_exporter": "python",
   "pygments_lexer": "ipython3",
   "version": "3.8.5"
  },
  "orig_nbformat": 4
 },
 "nbformat": 4,
 "nbformat_minor": 2
}
