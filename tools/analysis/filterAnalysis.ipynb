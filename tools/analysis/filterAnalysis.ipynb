{
 "cells": [
  {
   "cell_type": "code",
   "execution_count": 1,
   "metadata": {},
   "outputs": [
    {
     "name": "stderr",
     "output_type": "stream",
     "text": [
      "/srv/flash1/skareer6/miniconda3/envs/mic/lib/python3.8/site-packages/torch/cuda/__init__.py:52: UserWarning: CUDA initialization: Found no NVIDIA driver on your system. Please check that you have an NVIDIA GPU and installed a driver from http://www.nvidia.com/Download/index.aspx (Triggered internally at  /pytorch/c10/cuda/CUDAFunctions.cpp:100.)\n",
      "  return torch._C._cuda_getDeviceCount() > 0\n"
     ]
    },
    {
     "name": "stdout",
     "output_type": "stream",
     "text": [
      "No CUDA runtime is found, using CUDA_HOME='/usr/local/cuda'\n"
     ]
    }
   ],
   "source": [
    "import pickle as pkl\n",
    "import numpy as np\n",
    "import torch\n",
    "from mmseg.datasets.cityscapes import CityscapesDataset\n",
    "CLASSES = CityscapesDataset.CLASSES\n",
    "import pandas as pd"
   ]
  },
  {
   "cell_type": "code",
   "execution_count": 2,
   "metadata": {},
   "outputs": [],
   "source": [
    "# path = \"../../work_dirs/mmv5/invfn1_4gpu_gta_hrdargb_05-15-18-07-28/eval_results.pkl\"\n",
    "# path = \"/coc/testnvme/skareer6/Projects/VideoDA/mmsegmentation/work_dirs/viperHR2csHR_mic_segformer_mm/eval_results4.pkl\"\n",
    "# path = \"/coc/testnvme/skareer6/Projects/VideoDA/experiments/mmsegmentationExps/work_dirs/mmdg/vdammv3-4g06-08-14-45-10/eval_results4.pkl\"\n",
    "path = \"../../work_dirs/mmdg/vdammBNFix-4g06-09-18-18-06/eval_results8.pkl\"\n",
    "\n",
    "with open(path, \"rb\") as f:\n",
    "    data = pkl.load(f)"
   ]
  },
  {
   "cell_type": "code",
   "execution_count": 3,
   "metadata": {},
   "outputs": [],
   "source": [
    "i_data_dict = {k: v for k, v in data[\"cml_intersect\"].items() if v.sum() != 0}\n",
    "u_data_dict = {k: v for k, v in data[\"cml_union\"].items() if v.sum() != 0}\n",
    "iou_data_dict = {k: v / u_data_dict[k] for k, v in i_data_dict.items()}\n",
    "\n",
    "pixel_correct_data_dict = {k: v for k, v in data[\"pixelwise_correct\"].items() if v.sum() != 0}\n",
    "pixel_total_data_dict = {k: v for k, v in data[\"pixelwise_total\"].items() if v.sum() != 0}\n",
    "pixel_acc_data_dict = {k: v / pixel_total_data_dict[k] for k, v in pixel_correct_data_dict.items()}"
   ]
  },
  {
   "cell_type": "code",
   "execution_count": 4,
   "metadata": {},
   "outputs": [],
   "source": [
    "iou_data_dict[\"Class\"] = CLASSES\n",
    "pixel_acc_data_dict[\"Class\"] = CLASSES"
   ]
  },
  {
   "cell_type": "code",
   "execution_count": 5,
   "metadata": {},
   "outputs": [],
   "source": [
    "iou_df = pd.DataFrame.from_dict(iou_data_dict).set_index(\"Class\").T\n",
    "iou_df[\"Average\"] = iou_df.mean(axis=1)\n",
    "pixel_acc_df = pd.DataFrame.from_dict(pixel_acc_data_dict).set_index(\"Class\").T\n",
    "pixel_acc_df[\"Average\"] = pixel_acc_df.mean(axis=1)"
   ]
  },
  {
   "cell_type": "code",
   "execution_count": 6,
   "metadata": {},
   "outputs": [
    {
     "data": {
      "text/html": [
       "<div>\n",
       "<style scoped>\n",
       "    .dataframe tbody tr th:only-of-type {\n",
       "        vertical-align: middle;\n",
       "    }\n",
       "\n",
       "    .dataframe tbody tr th {\n",
       "        vertical-align: top;\n",
       "    }\n",
       "\n",
       "    .dataframe thead th {\n",
       "        text-align: right;\n",
       "    }\n",
       "</style>\n",
       "<table border=\"1\" class=\"dataframe\">\n",
       "  <thead>\n",
       "    <tr style=\"text-align: right;\">\n",
       "      <th>Class</th>\n",
       "      <th>Average</th>\n",
       "    </tr>\n",
       "  </thead>\n",
       "  <tbody>\n",
       "    <tr>\n",
       "      <th>mIoU</th>\n",
       "      <td>0.495509</td>\n",
       "    </tr>\n",
       "    <tr>\n",
       "      <th>branch_consis</th>\n",
       "      <td>0.520370</td>\n",
       "    </tr>\n",
       "    <tr>\n",
       "      <th>branch1_miou</th>\n",
       "      <td>0.491646</td>\n",
       "    </tr>\n",
       "    <tr>\n",
       "      <th>branch2_miou</th>\n",
       "      <td>0.498899</td>\n",
       "    </tr>\n",
       "  </tbody>\n",
       "</table>\n",
       "</div>"
      ],
      "text/plain": [
       "Class           Average\n",
       "mIoU           0.495509\n",
       "branch_consis  0.520370\n",
       "branch1_miou   0.491646\n",
       "branch2_miou   0.498899"
      ]
     },
     "execution_count": 6,
     "metadata": {},
     "output_type": "execute_result"
    }
   ],
   "source": [
    "iou_df[[\"Average\"]]"
   ]
  },
  {
   "cell_type": "code",
   "execution_count": 8,
   "metadata": {},
   "outputs": [
    {
     "data": {
      "text/html": [
       "<div>\n",
       "<style scoped>\n",
       "    .dataframe tbody tr th:only-of-type {\n",
       "        vertical-align: middle;\n",
       "    }\n",
       "\n",
       "    .dataframe tbody tr th {\n",
       "        vertical-align: top;\n",
       "    }\n",
       "\n",
       "    .dataframe thead th {\n",
       "        text-align: right;\n",
       "    }\n",
       "</style>\n",
       "<table border=\"1\" class=\"dataframe\">\n",
       "  <thead>\n",
       "    <tr style=\"text-align: right;\">\n",
       "      <th>Class</th>\n",
       "      <th>road</th>\n",
       "      <th>sidewalk</th>\n",
       "      <th>building</th>\n",
       "      <th>wall</th>\n",
       "      <th>fence</th>\n",
       "      <th>pole</th>\n",
       "      <th>traffic light</th>\n",
       "      <th>traffic sign</th>\n",
       "      <th>vegetation</th>\n",
       "      <th>terrain</th>\n",
       "      <th>sky</th>\n",
       "      <th>person</th>\n",
       "      <th>rider</th>\n",
       "      <th>car</th>\n",
       "      <th>truck</th>\n",
       "      <th>bus</th>\n",
       "      <th>train</th>\n",
       "      <th>motorcycle</th>\n",
       "      <th>bicycle</th>\n",
       "      <th>Average</th>\n",
       "    </tr>\n",
       "  </thead>\n",
       "  <tbody>\n",
       "    <tr>\n",
       "      <th>mIoU</th>\n",
       "      <td>0.710933</td>\n",
       "      <td>0.282460</td>\n",
       "      <td>0.863723</td>\n",
       "      <td>NaN</td>\n",
       "      <td>0.125175</td>\n",
       "      <td>NaN</td>\n",
       "      <td>0.548390</td>\n",
       "      <td>0.377083</td>\n",
       "      <td>0.857837</td>\n",
       "      <td>0.305340</td>\n",
       "      <td>0.848454</td>\n",
       "      <td>0.741101</td>\n",
       "      <td>NaN</td>\n",
       "      <td>0.602478</td>\n",
       "      <td>0.372220</td>\n",
       "      <td>0.305234</td>\n",
       "      <td>NaN</td>\n",
       "      <td>0.231026</td>\n",
       "      <td>0.261181</td>\n",
       "      <td>0.495509</td>\n",
       "    </tr>\n",
       "    <tr>\n",
       "      <th>branch_consis</th>\n",
       "      <td>0.735561</td>\n",
       "      <td>0.288407</td>\n",
       "      <td>0.883180</td>\n",
       "      <td>NaN</td>\n",
       "      <td>0.108807</td>\n",
       "      <td>NaN</td>\n",
       "      <td>0.573889</td>\n",
       "      <td>0.383287</td>\n",
       "      <td>0.876128</td>\n",
       "      <td>0.326244</td>\n",
       "      <td>0.863408</td>\n",
       "      <td>0.786916</td>\n",
       "      <td>NaN</td>\n",
       "      <td>0.675622</td>\n",
       "      <td>0.414118</td>\n",
       "      <td>0.315800</td>\n",
       "      <td>NaN</td>\n",
       "      <td>0.303319</td>\n",
       "      <td>0.270856</td>\n",
       "      <td>0.520370</td>\n",
       "    </tr>\n",
       "    <tr>\n",
       "      <th>branch1_miou</th>\n",
       "      <td>0.702923</td>\n",
       "      <td>0.281544</td>\n",
       "      <td>0.861763</td>\n",
       "      <td>NaN</td>\n",
       "      <td>0.128978</td>\n",
       "      <td>NaN</td>\n",
       "      <td>0.548022</td>\n",
       "      <td>0.377621</td>\n",
       "      <td>0.857163</td>\n",
       "      <td>0.303154</td>\n",
       "      <td>0.848085</td>\n",
       "      <td>0.737545</td>\n",
       "      <td>NaN</td>\n",
       "      <td>0.579977</td>\n",
       "      <td>0.364358</td>\n",
       "      <td>0.304231</td>\n",
       "      <td>NaN</td>\n",
       "      <td>0.220754</td>\n",
       "      <td>0.258577</td>\n",
       "      <td>0.491646</td>\n",
       "    </tr>\n",
       "    <tr>\n",
       "      <th>branch2_miou</th>\n",
       "      <td>0.729260</td>\n",
       "      <td>0.279161</td>\n",
       "      <td>0.865044</td>\n",
       "      <td>NaN</td>\n",
       "      <td>0.115727</td>\n",
       "      <td>NaN</td>\n",
       "      <td>0.533693</td>\n",
       "      <td>0.366132</td>\n",
       "      <td>0.854676</td>\n",
       "      <td>0.303332</td>\n",
       "      <td>0.845043</td>\n",
       "      <td>0.731157</td>\n",
       "      <td>NaN</td>\n",
       "      <td>0.658190</td>\n",
       "      <td>0.391137</td>\n",
       "      <td>0.301964</td>\n",
       "      <td>NaN</td>\n",
       "      <td>0.248737</td>\n",
       "      <td>0.260227</td>\n",
       "      <td>0.498899</td>\n",
       "    </tr>\n",
       "  </tbody>\n",
       "</table>\n",
       "</div>"
      ],
      "text/plain": [
       "Class              road  sidewalk  building  wall     fence  pole  \\\n",
       "mIoU           0.710933  0.282460  0.863723   NaN  0.125175   NaN   \n",
       "branch_consis  0.735561  0.288407  0.883180   NaN  0.108807   NaN   \n",
       "branch1_miou   0.702923  0.281544  0.861763   NaN  0.128978   NaN   \n",
       "branch2_miou   0.729260  0.279161  0.865044   NaN  0.115727   NaN   \n",
       "\n",
       "Class          traffic light  traffic sign  vegetation   terrain       sky  \\\n",
       "mIoU                0.548390      0.377083    0.857837  0.305340  0.848454   \n",
       "branch_consis       0.573889      0.383287    0.876128  0.326244  0.863408   \n",
       "branch1_miou        0.548022      0.377621    0.857163  0.303154  0.848085   \n",
       "branch2_miou        0.533693      0.366132    0.854676  0.303332  0.845043   \n",
       "\n",
       "Class            person  rider       car     truck       bus  train  \\\n",
       "mIoU           0.741101    NaN  0.602478  0.372220  0.305234    NaN   \n",
       "branch_consis  0.786916    NaN  0.675622  0.414118  0.315800    NaN   \n",
       "branch1_miou   0.737545    NaN  0.579977  0.364358  0.304231    NaN   \n",
       "branch2_miou   0.731157    NaN  0.658190  0.391137  0.301964    NaN   \n",
       "\n",
       "Class          motorcycle   bicycle   Average  \n",
       "mIoU             0.231026  0.261181  0.495509  \n",
       "branch_consis    0.303319  0.270856  0.520370  \n",
       "branch1_miou     0.220754  0.258577  0.491646  \n",
       "branch2_miou     0.248737  0.260227  0.498899  "
      ]
     },
     "execution_count": 8,
     "metadata": {},
     "output_type": "execute_result"
    }
   ],
   "source": [
    "iou_df"
   ]
  },
  {
   "cell_type": "code",
   "execution_count": 7,
   "metadata": {},
   "outputs": [
    {
     "data": {
      "text/html": [
       "<div>\n",
       "<style scoped>\n",
       "    .dataframe tbody tr th:only-of-type {\n",
       "        vertical-align: middle;\n",
       "    }\n",
       "\n",
       "    .dataframe tbody tr th {\n",
       "        vertical-align: top;\n",
       "    }\n",
       "\n",
       "    .dataframe thead th {\n",
       "        text-align: right;\n",
       "    }\n",
       "</style>\n",
       "<table border=\"1\" class=\"dataframe\">\n",
       "  <thead>\n",
       "    <tr style=\"text-align: right;\">\n",
       "      <th>Class</th>\n",
       "      <th>Average</th>\n",
       "    </tr>\n",
       "  </thead>\n",
       "  <tbody>\n",
       "    <tr>\n",
       "      <th>mIoU</th>\n",
       "      <td>0.620152</td>\n",
       "    </tr>\n",
       "    <tr>\n",
       "      <th>branch_consis</th>\n",
       "      <td>0.634420</td>\n",
       "    </tr>\n",
       "    <tr>\n",
       "      <th>branch1_miou</th>\n",
       "      <td>0.619453</td>\n",
       "    </tr>\n",
       "    <tr>\n",
       "      <th>branch2_miou</th>\n",
       "      <td>0.615676</td>\n",
       "    </tr>\n",
       "  </tbody>\n",
       "</table>\n",
       "</div>"
      ],
      "text/plain": [
       "Class           Average\n",
       "mIoU           0.620152\n",
       "branch_consis  0.634420\n",
       "branch1_miou   0.619453\n",
       "branch2_miou   0.615676"
      ]
     },
     "execution_count": 7,
     "metadata": {},
     "output_type": "execute_result"
    }
   ],
   "source": [
    "pixel_acc_df[[\"Average\"]]"
   ]
  },
  {
   "cell_type": "code",
   "execution_count": 9,
   "metadata": {},
   "outputs": [],
   "source": [
    "def get_metrics(confusion_matrix):\n",
    "    confusion_matrix = pd.DataFrame(confusion_matrix)\n",
    "    confusion_matrix.index = CLASSES\n",
    "    confusion_matrix.columns = CLASSES\n",
    "    FP = confusion_matrix.sum(axis=0) - np.diag(confusion_matrix)  \n",
    "    FN = confusion_matrix.sum(axis=1) - np.diag(confusion_matrix)\n",
    "    TP = np.diag(confusion_matrix)\n",
    "    TN = confusion_matrix.values.sum() - (FP + FN + TP)\n",
    "\n",
    "    # Sensitivity, hit rate, recall, or true positive rate\n",
    "    TPR = TP/(TP+FN)\n",
    "    # Specificity or true negative rate\n",
    "    TNR = TN/(TN+FP) \n",
    "    # Precision or positive predictive value\n",
    "    PPV = TP/(TP+FP)\n",
    "    # Negative predictive value\n",
    "    NPV = TN/(TN+FN)\n",
    "    # Fall out or false positive rate\n",
    "    FPR = FP/(FP+TN)\n",
    "    # False negative rate\n",
    "    FNR = FN/(TP+FN)\n",
    "    # False discovery rate\n",
    "    FDR = FP/(TP+FP)\n",
    "\n",
    "    # Overall accuracy\n",
    "    ACC = (TP+TN)/(TP+FP+FN+TN)\n",
    "\n",
    "    metrics = {\"FP\": FP, \n",
    "                \"FN\": FN,\n",
    "                \"TP\": TP,\n",
    "                \"TN\": TN,\n",
    "                \"TPR\": TPR,\n",
    "                \"TNR\": TNR,\n",
    "                \"PPV\": PPV,\n",
    "                \"NPV\": NPV,\n",
    "                \"FPR\": FPR,\n",
    "                \"FNR\": FNR,\n",
    "                \"FDR\": FDR,\n",
    "                \"ACC\": ACC}\n",
    "    return metrics\n",
    "\n",
    "\n",
    "def get_normalized_cf(confusion_matrix):\n",
    "    confusion_matrix /= confusion_matrix.sum(axis=1, keepdims=True)\n",
    "    confusion_matrix = pd.DataFrame(confusion_matrix)\n",
    "    confusion_matrix.index = CLASSES\n",
    "    confusion_matrix.columns = CLASSES\n",
    "    return (confusion_matrix).round(3)\n"
   ]
  },
  {
   "cell_type": "code",
   "execution_count": 10,
   "metadata": {},
   "outputs": [
    {
     "name": "stderr",
     "output_type": "stream",
     "text": [
      "/tmp/ipykernel_3046401/2748627673.py:44: RuntimeWarning: invalid value encountered in true_divide\n",
      "  confusion_matrix /= confusion_matrix.sum(axis=1, keepdims=True)\n"
     ]
    }
   ],
   "source": [
    "metrics = get_metrics(data['confusion_matrix']['mIoU'].numpy())\n",
    "cf = get_normalized_cf(data['confusion_matrix']['mIoU'].numpy())"
   ]
  },
  {
   "cell_type": "code",
   "execution_count": null,
   "metadata": {},
   "outputs": [],
   "source": []
  }
 ],
 "metadata": {
  "kernelspec": {
   "display_name": "Python 3",
   "language": "python",
   "name": "python3"
  },
  "language_info": {
   "codemirror_mode": {
    "name": "ipython",
    "version": 3
   },
   "file_extension": ".py",
   "mimetype": "text/x-python",
   "name": "python",
   "nbconvert_exporter": "python",
   "pygments_lexer": "ipython3",
   "version": "3.8.5"
  },
  "orig_nbformat": 4,
  "vscode": {
   "interpreter": {
    "hash": "19fe8414c3884660166434eb94f7323c4d3f759f06cb9fb47214cf5e7cb838c8"
   }
  }
 },
 "nbformat": 4,
 "nbformat_minor": 2
}
