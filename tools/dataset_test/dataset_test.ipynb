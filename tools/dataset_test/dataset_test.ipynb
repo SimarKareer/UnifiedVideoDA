{
 "cells": [
  {
   "cell_type": "code",
   "execution_count": 1,
   "id": "cbef123c-89ad-4bbb-9da2-b463d0b3ef8f",
   "metadata": {},
   "outputs": [
    {
     "name": "stderr",
     "output_type": "stream",
     "text": [
      "/srv/flash1/skareer6/miniconda3/envs/mmseg/lib/python3.8/site-packages/tqdm/auto.py:22: TqdmWarning: IProgress not found. Please update jupyter and ipywidgets. See https://ipywidgets.readthedocs.io/en/stable/user_install.html\n",
      "  from .autonotebook import tqdm as notebook_tqdm\n"
     ]
    }
   ],
   "source": [
    "from mmseg.datasets.viperSeq import ViperSeqDataset"
   ]
  },
  {
   "cell_type": "code",
   "execution_count": 2,
   "id": "02bc389a-164f-45c4-8846-7bd7155689f9",
   "metadata": {},
   "outputs": [],
   "source": [
    "# dataset settings\n",
    "dataset_type = 'ViperDataset'\n",
    "data_root = '/srv/share4/datasets/VIPER/'\n",
    "\n",
    "#imagenet values\n",
    "img_norm_cfg = dict(\n",
    "    mean=[123.675, 116.28, 103.53], std=[58.395, 57.12, 57.375], to_rgb=True)\n",
    "\n",
    "#crop size from the da-vsn paper code\n",
    "crop_size = (720, 1280)"
   ]
  },
  {
   "cell_type": "code",
   "execution_count": 3,
   "id": "3184e14e-86fa-494d-80eb-96a802476b08",
   "metadata": {},
   "outputs": [],
   "source": [
    "# train_pipeline = [\n",
    "#     dict(type='LoadImageFromFile'),\n",
    "#     dict(type='LoadAnnotations'),\n",
    "#     dict(type='Resize', img_scale=(2048, 1024), ratio_range=(0.5, 2.0)),\n",
    "#     dict(type='RandomCrop', crop_size=crop_size, cat_max_ratio=0.75),\n",
    "#     dict(type='RandomFlip', prob=0.5),\n",
    "#     dict(type='PhotoMetricDistortion'),\n",
    "#     dict(type='Normalize', **img_norm_cfg),\n",
    "#     dict(type='Pad', size=crop_size, pad_val=0, seg_pad_val=255),\n",
    "#     dict(type='DefaultFormatBundle'),\n",
    "#     dict(type='Collect', keys=['img', 'gt_semantic_seg']),\n",
    "# ]\n",
    "train_pipeline = {\n",
    "    \"im_load_pipeline\": [\n",
    "        dict(type='LoadImageFromFile'),\n",
    "        dict(type='LoadAnnotations'),\n",
    "    ],\n",
    "    \"load_no_ann_pipeline\": [\n",
    "        dict(type='LoadImageFromFile'),\n",
    "    ],\n",
    "    \"load_flow_pipeline\": [\n",
    "        dict(type='LoadFlowFromFile'),\n",
    "    ],\n",
    "    \"shared_pipeline\": [\n",
    "        dict(type='Resize', img_scale=(2048, 1024), ratio_range=(0.5, 2.0)),\n",
    "        dict(type='RandomCrop', crop_size=crop_size, cat_max_ratio=0.75),\n",
    "        dict(type='RandomFlip', prob=0.5),\n",
    "    ],\n",
    "    \"im_pipeline\": [\n",
    "        dict(type='PhotoMetricDistortion'),\n",
    "        dict(type='Normalize', **img_norm_cfg),\n",
    "        dict(type='Pad', size=crop_size, pad_val=0, seg_pad_val=255),\n",
    "        dict(type='DefaultFormatBundle'),\n",
    "        dict(type='Collect', keys=['img', 'gt_semantic_seg']),\n",
    "    ],\n",
    "    \"flow_pipeline\": [\n",
    "        dict(type='Pad', size=crop_size, pad_val=0, seg_pad_val=255),\n",
    "        dict(type='DefaultFormatBundle'), #I don't know what this is\n",
    "        dict(type='Collect', keys=['img', 'gt_semantic_seg']),\n",
    "    ]\n",
    "}\n",
    "img_dir = '/srv/share4/datasets/VIPER/'"
   ]
  },
  {
   "cell_type": "code",
   "execution_count": 7,
   "id": "df669099-a8ce-493b-90c9-aae17bee004b",
   "metadata": {},
   "outputs": [
    {
     "name": "stderr",
     "output_type": "stream",
     "text": [
      "2022-11-03 14:42:09,130 - mmseg - INFO - Loaded 13367 images\n",
      "2022-11-03 14:42:09,152 - mmseg - INFO - Loaded 13367 images\n",
      "2022-11-03 14:42:09,174 - mmseg - INFO - Loaded 13367 images\n"
     ]
    }
   ],
   "source": [
    "a = ViperSeqDataset(\n",
    "        # type=dataset_type,\n",
    "        split='splits/train.txt',\n",
    "        flow_dir=\"/srv/share4/datasets/VIPER_Flowv2/train/flow_occ\",\n",
    "        data_root=data_root,\n",
    "        img_dir='train/img',\n",
    "        ann_dir='train/cls',\n",
    "        pipeline=train_pipeline\n",
    ")"
   ]
  },
  {
   "cell_type": "code",
   "execution_count": 8,
   "id": "07ccc296-2d28-4726-b21f-40a8574edbee",
   "metadata": {},
   "outputs": [
    {
     "name": "stdout",
     "output_type": "stream",
     "text": [
      "flow on\n",
      "{'filename': '001/001_00009.png'}\n",
      "dict_keys(['img_info', 'ann_info', 'seg_fields', 'img_prefix', 'seg_prefix', 'filename', 'ori_filename', 'img', 'img_shape', 'ori_shape', 'pad_shape', 'scale_factor', 'img_norm_cfg', 'gt_semantic_seg'])\n",
      "(657, 1168, 8)\n"
     ]
    },
    {
     "data": {
      "text/plain": [
       "{'img_metas': DataContainer({'filename': '/srv/share4/datasets/VIPER/train/img/001/001_00010.jpg', 'ori_filename': '001/001_00010.jpg', 'ori_shape': (1080, 1920, 3), 'img_shape': (657, 1168, 8), 'pad_shape': (720, 1280, 3), 'scale_factor': array([0.60833335, 0.60833335, 0.60833335, 0.60833335], dtype=float32), 'flip': True, 'flip_direction': 'horizontal', 'img_norm_cfg': {'mean': array([123.675, 116.28 , 103.53 ], dtype=float32), 'std': array([58.395, 57.12 , 57.375], dtype=float32), 'to_rgb': True}}),\n",
       " 'img': DataContainer(tensor([[[-1.5185, -1.7069, -1.7412,  ...,  0.0000,  0.0000,  0.0000],\n",
       "          [-1.7583, -1.7754, -1.9295,  ...,  0.0000,  0.0000,  0.0000],\n",
       "          [-1.7754, -1.4672, -1.5014,  ...,  0.0000,  0.0000,  0.0000],\n",
       "          ...,\n",
       "          [ 0.0000,  0.0000,  0.0000,  ...,  0.0000,  0.0000,  0.0000],\n",
       "          [ 0.0000,  0.0000,  0.0000,  ...,  0.0000,  0.0000,  0.0000],\n",
       "          [ 0.0000,  0.0000,  0.0000,  ...,  0.0000,  0.0000,  0.0000]],\n",
       " \n",
       "         [[-1.4405, -1.6331, -1.6681,  ...,  0.0000,  0.0000,  0.0000],\n",
       "          [-1.6856, -1.7031, -1.8606,  ...,  0.0000,  0.0000,  0.0000],\n",
       "          [-1.7031, -1.3880, -1.4230,  ...,  0.0000,  0.0000,  0.0000],\n",
       "          ...,\n",
       "          [ 0.0000,  0.0000,  0.0000,  ...,  0.0000,  0.0000,  0.0000],\n",
       "          [ 0.0000,  0.0000,  0.0000,  ...,  0.0000,  0.0000,  0.0000],\n",
       "          [ 0.0000,  0.0000,  0.0000,  ...,  0.0000,  0.0000,  0.0000]],\n",
       " \n",
       "         [[-1.2119, -1.4210, -1.4559,  ...,  0.0000,  0.0000,  0.0000],\n",
       "          [-1.4559, -1.4907, -1.6302,  ...,  0.0000,  0.0000,  0.0000],\n",
       "          [-1.4907, -1.1770, -1.2119,  ...,  0.0000,  0.0000,  0.0000],\n",
       "          ...,\n",
       "          [ 0.0000,  0.0000,  0.0000,  ...,  0.0000,  0.0000,  0.0000],\n",
       "          [ 0.0000,  0.0000,  0.0000,  ...,  0.0000,  0.0000,  0.0000],\n",
       "          [ 0.0000,  0.0000,  0.0000,  ...,  0.0000,  0.0000,  0.0000]]])),\n",
       " 'gt_semantic_seg': DataContainer(tensor([[[  7,   7,   7,  ..., 255, 255, 255],\n",
       "          [  7,   7,   7,  ..., 255, 255, 255],\n",
       "          [  7,   7,   7,  ..., 255, 255, 255],\n",
       "          ...,\n",
       "          [255, 255, 255,  ..., 255, 255, 255],\n",
       "          [255, 255, 255,  ..., 255, 255, 255],\n",
       "          [255, 255, 255,  ..., 255, 255, 255]]])),\n",
       " 'flow': DataContainer(tensor([[[ 34.4688, 135.6170, 129.7007,  ...,   0.0000,   0.0000,   0.0000],\n",
       "          [ 34.4688, 135.5351, 126.4005,  ...,   0.0000,   0.0000,   0.0000],\n",
       "          [ 34.4688, 135.3408, 131.5530,  ...,   0.0000,   0.0000,   0.0000],\n",
       "          ...,\n",
       "          [  0.0000,   0.0000,   0.0000,  ...,   0.0000,   0.0000,   0.0000],\n",
       "          [  0.0000,   0.0000,   0.0000,  ...,   0.0000,   0.0000,   0.0000],\n",
       "          [  0.0000,   0.0000,   0.0000,  ...,   0.0000,   0.0000,   0.0000]],\n",
       " \n",
       "         [[-16.1043, -61.2731, -58.7345,  ...,   0.0000,   0.0000,   0.0000],\n",
       "          [-16.0379, -60.9732, -57.0410,  ...,   0.0000,   0.0000,   0.0000],\n",
       "          [-15.9860, -60.6922, -59.0878,  ...,   0.0000,   0.0000,   0.0000],\n",
       "          ...,\n",
       "          [  0.0000,   0.0000,   0.0000,  ...,   0.0000,   0.0000,   0.0000],\n",
       "          [  0.0000,   0.0000,   0.0000,  ...,   0.0000,   0.0000,   0.0000],\n",
       "          [  0.0000,   0.0000,   0.0000,  ...,   0.0000,   0.0000,   0.0000]]])),\n",
       " 'imtk': DataContainer(tensor([[[-1.2788, -1.2103, -1.3302,  ...,  0.0000,  0.0000,  0.0000],\n",
       "          [-1.1418, -1.1418, -0.7479,  ...,  0.0000,  0.0000,  0.0000],\n",
       "          [-1.2959, -0.9877, -0.9534,  ...,  0.0000,  0.0000,  0.0000],\n",
       "          ...,\n",
       "          [ 0.0000,  0.0000,  0.0000,  ...,  0.0000,  0.0000,  0.0000],\n",
       "          [ 0.0000,  0.0000,  0.0000,  ...,  0.0000,  0.0000,  0.0000],\n",
       "          [ 0.0000,  0.0000,  0.0000,  ...,  0.0000,  0.0000,  0.0000]],\n",
       " \n",
       "         [[-1.3004, -1.2654, -1.4230,  ...,  0.0000,  0.0000,  0.0000],\n",
       "          [-1.1604, -1.1954, -0.8277,  ...,  0.0000,  0.0000,  0.0000],\n",
       "          [-1.3004, -1.0378, -1.0378,  ...,  0.0000,  0.0000,  0.0000],\n",
       "          ...,\n",
       "          [ 0.0000,  0.0000,  0.0000,  ...,  0.0000,  0.0000,  0.0000],\n",
       "          [ 0.0000,  0.0000,  0.0000,  ...,  0.0000,  0.0000,  0.0000],\n",
       "          [ 0.0000,  0.0000,  0.0000,  ...,  0.0000,  0.0000,  0.0000]],\n",
       " \n",
       "         [[-1.2119, -1.1596, -1.2990,  ...,  0.0000,  0.0000,  0.0000],\n",
       "          [-1.0724, -1.0898, -0.7064,  ...,  0.0000,  0.0000,  0.0000],\n",
       "          [-1.2119, -0.9330, -0.9156,  ...,  0.0000,  0.0000,  0.0000],\n",
       "          ...,\n",
       "          [ 0.0000,  0.0000,  0.0000,  ...,  0.0000,  0.0000,  0.0000],\n",
       "          [ 0.0000,  0.0000,  0.0000,  ...,  0.0000,  0.0000,  0.0000],\n",
       "          [ 0.0000,  0.0000,  0.0000,  ...,  0.0000,  0.0000,  0.0000]]]))}"
      ]
     },
     "execution_count": 8,
     "metadata": {},
     "output_type": "execute_result"
    }
   ],
   "source": [
    "a.__getitem__(0)"
   ]
  },
  {
   "cell_type": "code",
   "execution_count": 6,
   "id": "2f86006b-edee-44ac-88bd-f79fa4b94176",
   "metadata": {},
   "outputs": [
    {
     "data": {
      "text/plain": [
       "['a', 'b']"
      ]
     },
     "execution_count": 6,
     "metadata": {},
     "output_type": "execute_result"
    }
   ],
   "source": [
    "\"a_b\".split(\"_\")"
   ]
  }
 ],
 "metadata": {
  "kernelspec": {
   "display_name": "Python [conda env:mmseg]",
   "language": "python",
   "name": "conda-env-mmseg-py"
  },
  "language_info": {
   "codemirror_mode": {
    "name": "ipython",
    "version": 3
   },
   "file_extension": ".py",
   "mimetype": "text/x-python",
   "name": "python",
   "nbconvert_exporter": "python",
   "pygments_lexer": "ipython3",
   "version": "3.8.13"
  }
 },
 "nbformat": 4,
 "nbformat_minor": 5
}
