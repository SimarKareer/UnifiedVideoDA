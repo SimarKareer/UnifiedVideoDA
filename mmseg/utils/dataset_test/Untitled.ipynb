{
 "cells": [
  {
   "cell_type": "code",
   "execution_count": 86,
   "id": "380c6d69-7bc2-4f3e-ac86-c5bfb4e9dac3",
   "metadata": {},
   "outputs": [],
   "source": [
    "import pickle\n",
    "import numpy as np\n",
    "import mmcv"
   ]
  },
  {
   "cell_type": "code",
   "execution_count": 87,
   "id": "0735067b-7d95-4a3b-a5b4-2270d46202fb",
   "metadata": {},
   "outputs": [],
   "source": [
    "refined_data = pickle.load(open(\"/coc/testnvme/skareer6/Projects/VideoDA/mmsegmentation/refined_data\", \"rb\"))\n",
    "refined_data_seq = pickle.load(open(\"/coc/testnvme/skareer6/Projects/VideoDA/mmsegmentation/refined_data_seq\", \"rb\"))"
   ]
  },
  {
   "cell_type": "code",
   "execution_count": 88,
   "id": "6ace2019-b452-4d2d-b39f-25f4e5782711",
   "metadata": {},
   "outputs": [
    {
     "data": {
      "text/plain": [
       "{'img_metas': [DataContainer([[{'filename': '/srv/share4/datasets/VIPER/val/img/001/001_00010.jpg', 'ori_filename': '001/001_00010.jpg', 'ori_shape': (1080, 1920, 3), 'img_shape': (1080, 1920, 3), 'pad_shape': (1080, 1920, 3), 'scale_factor': 1.0, 'flip': False, 'flip_direction': 'horizontal', 'img_norm_cfg': {'mean': array([123.675, 116.28 , 103.53 ], dtype=float32), 'std': array([58.395, 57.12 , 57.375], dtype=float32), 'to_rgb': True}}]])],\n",
       " 'img': [tensor([[[[-1.4500, -1.4500, -1.4329,  ...,  1.4612,  1.4612,  1.4612],\n",
       "            [-1.3302, -1.3473, -1.3644,  ...,  1.4612,  1.4612,  1.4612],\n",
       "            [-1.1932, -1.2103, -1.2445,  ...,  1.4612,  1.4612,  1.4612],\n",
       "            ...,\n",
       "            [ 1.3242,  1.3584,  1.4098,  ...,  2.0948,  2.0948,  2.0948],\n",
       "            [ 1.3413,  1.3584,  1.4098,  ...,  2.0948,  2.0948,  2.0948],\n",
       "            [ 1.3413,  1.3584,  1.3927,  ...,  2.0948,  2.0948,  2.0948]],\n",
       "  \n",
       "           [[-1.3354, -1.3354, -1.3179,  ...,  1.7458,  1.7458,  1.7458],\n",
       "            [-1.2129, -1.2304, -1.2479,  ...,  1.7458,  1.7458,  1.7458],\n",
       "            [-1.0728, -1.0903, -1.1254,  ...,  1.7458,  1.7458,  1.7458],\n",
       "            ...,\n",
       "            [ 1.0805,  1.1155,  1.1681,  ...,  2.1660,  2.1660,  2.1660],\n",
       "            [ 1.0980,  1.1155,  1.1681,  ...,  2.1660,  2.1660,  2.1660],\n",
       "            [ 1.0980,  1.1155,  1.1506,  ...,  2.1660,  2.1660,  2.1660]],\n",
       "  \n",
       "           [[-1.0376, -1.0376, -1.0201,  ...,  2.0997,  2.0997,  2.0997],\n",
       "            [-0.9156, -0.9330, -0.9504,  ...,  2.0997,  2.0997,  2.0997],\n",
       "            [-0.7761, -0.7936, -0.8284,  ...,  2.0997,  2.0997,  2.0997],\n",
       "            ...,\n",
       "            [ 0.7054,  0.7402,  0.7925,  ...,  1.9951,  1.9951,  1.9951],\n",
       "            [ 0.7228,  0.7402,  0.7925,  ...,  1.9951,  1.9951,  1.9951],\n",
       "            [ 0.7228,  0.7402,  0.7751,  ...,  1.9951,  1.9951,  1.9951]]]])]}"
      ]
     },
     "execution_count": 88,
     "metadata": {},
     "output_type": "execute_result"
    }
   ],
   "source": [
    "refined_data"
   ]
  },
  {
   "cell_type": "code",
   "execution_count": 89,
   "id": "18a23e73-b5fe-40a6-9905-648152c5b616",
   "metadata": {},
   "outputs": [
    {
     "data": {
      "text/plain": [
       "{'img_metas': [DataContainer([[{'filename': '/srv/share4/datasets/VIPER/val/img/001/001_00010.jpg', 'ori_filename': '001/001_00010.jpg', 'img_shape': (1080, 1920, 3), 'ori_shape': (1080, 1920, 3), 'pad_shape': (1080, 1920, 3), 'scale_factor': 1.0, 'img_norm_cfg': {'mean': array([123.675, 116.28 , 103.53 ], dtype=float32), 'std': array([58.395, 57.12 , 57.375], dtype=float32), 'to_rgb': True}, 'flip': False, 'flip_direction': 'horizontal'}]])],\n",
       " 'img': [tensor([[[[-1.4500, -1.4500, -1.4329,  ...,  1.4612,  1.4612,  1.4612],\n",
       "            [-1.3302, -1.3473, -1.3644,  ...,  1.4612,  1.4612,  1.4612],\n",
       "            [-1.1932, -1.2103, -1.2445,  ...,  1.4612,  1.4612,  1.4612],\n",
       "            ...,\n",
       "            [ 1.3242,  1.3584,  1.4098,  ...,  2.0948,  2.0948,  2.0948],\n",
       "            [ 1.3413,  1.3584,  1.4098,  ...,  2.0948,  2.0948,  2.0948],\n",
       "            [ 1.3413,  1.3584,  1.3927,  ...,  2.0948,  2.0948,  2.0948]],\n",
       "  \n",
       "           [[-1.3354, -1.3354, -1.3179,  ...,  1.7458,  1.7458,  1.7458],\n",
       "            [-1.2129, -1.2304, -1.2479,  ...,  1.7458,  1.7458,  1.7458],\n",
       "            [-1.0728, -1.0903, -1.1254,  ...,  1.7458,  1.7458,  1.7458],\n",
       "            ...,\n",
       "            [ 1.0805,  1.1155,  1.1681,  ...,  2.1660,  2.1660,  2.1660],\n",
       "            [ 1.0980,  1.1155,  1.1681,  ...,  2.1660,  2.1660,  2.1660],\n",
       "            [ 1.0980,  1.1155,  1.1506,  ...,  2.1660,  2.1660,  2.1660]],\n",
       "  \n",
       "           [[-1.0376, -1.0376, -1.0201,  ...,  2.0997,  2.0997,  2.0997],\n",
       "            [-0.9156, -0.9330, -0.9504,  ...,  2.0997,  2.0997,  2.0997],\n",
       "            [-0.7761, -0.7936, -0.8284,  ...,  2.0997,  2.0997,  2.0997],\n",
       "            ...,\n",
       "            [ 0.7054,  0.7402,  0.7925,  ...,  1.9951,  1.9951,  1.9951],\n",
       "            [ 0.7228,  0.7402,  0.7925,  ...,  1.9951,  1.9951,  1.9951],\n",
       "            [ 0.7228,  0.7402,  0.7751,  ...,  1.9951,  1.9951,  1.9951]]]])]}"
      ]
     },
     "execution_count": 89,
     "metadata": {},
     "output_type": "execute_result"
    }
   ],
   "source": [
    "refined_data_seq"
   ]
  },
  {
   "cell_type": "code",
   "execution_count": 47,
   "id": "a3678054-621f-4929-b66f-88ba4e3aba90",
   "metadata": {},
   "outputs": [
    {
     "data": {
      "text/plain": [
       "torch.Size([1, 3, 1080, 1920])"
      ]
     },
     "execution_count": 47,
     "metadata": {},
     "output_type": "execute_result"
    }
   ],
   "source": [
    "refined_data[\"img\"][0].shape"
   ]
  },
  {
   "cell_type": "code",
   "execution_count": 48,
   "id": "df7c2151-e253-4efa-97e8-cc74b5473b84",
   "metadata": {},
   "outputs": [
    {
     "data": {
      "text/plain": [
       "torch.Size([1, 3, 1080, 1920])"
      ]
     },
     "execution_count": 48,
     "metadata": {},
     "output_type": "execute_result"
    }
   ],
   "source": [
    "refined_data_seq[\"img\"][0].shape"
   ]
  },
  {
   "cell_type": "code",
   "execution_count": 91,
   "id": "821304bb-5306-4e65-b8f8-18800c3434d6",
   "metadata": {},
   "outputs": [
    {
     "data": {
      "text/plain": [
       "mmcv.parallel.data_container.DataContainer"
      ]
     },
     "execution_count": 91,
     "metadata": {},
     "output_type": "execute_result"
    }
   ],
   "source": [
    "type(refined_data[\"img_metas\"][0])"
   ]
  },
  {
   "cell_type": "code",
   "execution_count": 90,
   "id": "9e291ec4-a53b-4061-85a7-43fbd116c562",
   "metadata": {},
   "outputs": [
    {
     "data": {
      "text/plain": [
       "mmcv.parallel.data_container.DataContainer"
      ]
     },
     "execution_count": 90,
     "metadata": {},
     "output_type": "execute_result"
    }
   ],
   "source": [
    "type(refined_data_seq[\"img_metas\"][0])"
   ]
  },
  {
   "cell_type": "code",
   "execution_count": null,
   "id": "5677f172-9cee-4c6b-91f7-391db4376fa5",
   "metadata": {},
   "outputs": [],
   "source": [
    "images are identical\n",
    "img_metas have the same keys, seem identical\n"
   ]
  },
  {
   "cell_type": "code",
   "execution_count": 63,
   "id": "f7807717-7ecb-4dd4-bcef-c914897f803c",
   "metadata": {},
   "outputs": [
    {
     "data": {
      "text/plain": [
       "{'filename': '/srv/share4/datasets/VIPER/val/img/001/001_00010.jpg',\n",
       " 'ori_filename': '001/001_00010.jpg',\n",
       " 'ori_shape': (1080, 1920, 3),\n",
       " 'img_shape': (1080, 1920, 3),\n",
       " 'pad_shape': (1080, 1920, 3),\n",
       " 'scale_factor': 1.0,\n",
       " 'flip': False,\n",
       " 'flip_direction': 'horizontal',\n",
       " 'img_norm_cfg': {'mean': array([123.675, 116.28 , 103.53 ], dtype=float32),\n",
       "  'std': array([58.395, 57.12 , 57.375], dtype=float32),\n",
       "  'to_rgb': True}}"
      ]
     },
     "execution_count": 63,
     "metadata": {},
     "output_type": "execute_result"
    }
   ],
   "source": [
    "a = refined_data[\"img_metas\"][0].data[0][0]\n",
    "a"
   ]
  },
  {
   "cell_type": "code",
   "execution_count": 64,
   "id": "52ed94d8-1e90-49f9-b9c4-8cb30f01e150",
   "metadata": {},
   "outputs": [
    {
     "data": {
      "text/plain": [
       "{'filename': '/srv/share4/datasets/VIPER/val/img/001/001_00010.jpg',\n",
       " 'ori_filename': '001/001_00010.jpg',\n",
       " 'img_shape': (1080, 1920, 3),\n",
       " 'ori_shape': (1080, 1920, 3),\n",
       " 'pad_shape': (1080, 1920, 3),\n",
       " 'scale_factor': 1.0,\n",
       " 'img_norm_cfg': {'mean': array([123.675, 116.28 , 103.53 ], dtype=float32),\n",
       "  'std': array([58.395, 57.12 , 57.375], dtype=float32),\n",
       "  'to_rgb': True},\n",
       " 'flip': False,\n",
       " 'flip_direction': 'horizontal'}"
      ]
     },
     "execution_count": 64,
     "metadata": {},
     "output_type": "execute_result"
    }
   ],
   "source": [
    "b = refined_data_seq[\"img_metas\"][0].data[0][0]\n",
    "b"
   ]
  },
  {
   "cell_type": "code",
   "execution_count": 79,
   "id": "ba6ef5cf-acf9-4184-ad0a-120bbca3db25",
   "metadata": {},
   "outputs": [
    {
     "name": "stdout",
     "output_type": "stream",
     "text": [
      "filename <class 'str'>\n",
      "ori_filename <class 'str'>\n",
      "ori_shape <class 'tuple'>\n",
      "img_shape <class 'tuple'>\n",
      "pad_shape <class 'tuple'>\n",
      "scale_factor <class 'float'>\n",
      "flip <class 'bool'>\n",
      "flip_direction <class 'str'>\n",
      "img_norm_cfg <class 'dict'>\n"
     ]
    }
   ],
   "source": [
    "for k, v in a.items():\n",
    "    print(k, type(v))\n",
    "    if type(a[k]) == np.array:\n",
    "        print(a[k])\n",
    "        assert((a[k] == b[k]).all())"
   ]
  },
  {
   "cell_type": "code",
   "execution_count": 77,
   "id": "64715bd6-d96a-4e0f-a46a-1cd84543fde6",
   "metadata": {},
   "outputs": [
    {
     "name": "stdout",
     "output_type": "stream",
     "text": [
      "filename <class 'str'>\n",
      "ori_filename <class 'str'>\n",
      "img_shape <class 'tuple'>\n",
      "ori_shape <class 'tuple'>\n",
      "pad_shape <class 'tuple'>\n",
      "scale_factor <class 'float'>\n",
      "img_norm_cfg <class 'dict'>\n",
      "flip <class 'bool'>\n",
      "flip_direction <class 'str'>\n"
     ]
    }
   ],
   "source": [
    "for k, v in b.items():\n",
    "    print(k, type(v))"
   ]
  },
  {
   "cell_type": "code",
   "execution_count": 82,
   "id": "a72d163d-8e19-4b87-ac1b-f8911635afc3",
   "metadata": {},
   "outputs": [
    {
     "data": {
      "text/plain": [
       "dict"
      ]
     },
     "execution_count": 82,
     "metadata": {},
     "output_type": "execute_result"
    }
   ],
   "source": [
    "type(refined_data_seq[\"img_metas\"][0].data[0][0][\"img_norm_cfg\"])"
   ]
  },
  {
   "cell_type": "code",
   "execution_count": 83,
   "id": "66c347e8-5238-4b17-badf-53ac2d13aa3f",
   "metadata": {},
   "outputs": [
    {
     "data": {
      "text/plain": [
       "dict"
      ]
     },
     "execution_count": 83,
     "metadata": {},
     "output_type": "execute_result"
    }
   ],
   "source": [
    "type(refined_data[\"img_metas\"][0].data[0][0][\"img_norm_cfg\"])"
   ]
  },
  {
   "cell_type": "code",
   "execution_count": null,
   "id": "edf0f6f8-a766-4dd9-aee7-943bf65e0042",
   "metadata": {},
   "outputs": [],
   "source": []
  }
 ],
 "metadata": {
  "kernelspec": {
   "display_name": "Python [conda env:mmseg]",
   "language": "python",
   "name": "conda-env-mmseg-py"
  },
  "language_info": {
   "codemirror_mode": {
    "name": "ipython",
    "version": 3
   },
   "file_extension": ".py",
   "mimetype": "text/x-python",
   "name": "python",
   "nbconvert_exporter": "python",
   "pygments_lexer": "ipython3",
   "version": "3.8.13"
  }
 },
 "nbformat": 4,
 "nbformat_minor": 5
}
