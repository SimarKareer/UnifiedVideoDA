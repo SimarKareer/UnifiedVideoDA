{
 "cells": [
  {
   "cell_type": "code",
   "execution_count": null,
   "id": "89392740-a246-47e2-b299-17e144c86182",
   "metadata": {},
   "outputs": [],
   "source": [
    "def regular_viper():\n",
    "    from mmcv.parallel import collate\n",
    "    from functools import partial\n",
    "    dataset_type = 'ViperDataset'\n",
    "    data_root = '/srv/share4/datasets/VIPER/'\n",
    "    img_norm_cfg = dict(\n",
    "    mean=[123.675, 116.28, 103.53], std=[58.395, 57.12, 57.375], to_rgb=True)\n",
    "\n",
    "    #crop size from the da-vsn paper code\n",
    "    crop_size = (720, 1280)\n",
    "    train_pipeline = [\n",
    "        dict(type='LoadImageFromFile'),\n",
    "        dict(type='LoadAnnotations'),\n",
    "        dict(type='Resize', img_scale=(2048, 1024), ratio_range=(0.5, 2.0)),\n",
    "        dict(type='RandomCrop', crop_size=crop_size, cat_max_ratio=0.75),\n",
    "        dict(type='RandomFlip', prob=0.5),\n",
    "        dict(type='PhotoMetricDistortion'),\n",
    "        dict(type='Normalize', **img_norm_cfg),\n",
    "        dict(type='Pad', size=crop_size, pad_val=0, seg_pad_val=255),\n",
    "        dict(type='DefaultFormatBundle'),\n",
    "        dict(type='Collect', keys=['img', 'gt_semantic_seg']),\n",
    "    ]\n",
    "    \n",
    "    viper = ViperDataset(\n",
    "            data_root=data_root,\n",
    "            img_dir='train/img',\n",
    "            ann_dir='train/cls',\n",
    "            split='splits/train.txt',\n",
    "            pipeline=train_pipeline)\n",
    "    \n",
    "    data_loader = DataLoader(\n",
    "        viper, \n",
    "        collate_fn=partial(collate, samples_per_gpu=1)\n",
    "    )\n",
    "    \n",
    "    print(\"made dl\")\n",
    "    for i, data in enumerate(data_loader):\n",
    "        print(data)\n",
    "\n",
    "regular_viper()"
   ]
  }
 ],
 "metadata": {
  "kernelspec": {
   "display_name": "Python [conda env:mmseg]",
   "language": "python",
   "name": "conda-env-mmseg-py"
  },
  "language_info": {
   "codemirror_mode": {
    "name": "ipython",
    "version": 3
   },
   "file_extension": ".py",
   "mimetype": "text/x-python",
   "name": "python",
   "nbconvert_exporter": "python",
   "pygments_lexer": "ipython3",
   "version": "3.8.13"
  }
 },
 "nbformat": 4,
 "nbformat_minor": 5
}
